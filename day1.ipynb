{
 "cells": [
  {
   "cell_type": "code",
   "execution_count": 28,
   "metadata": {},
   "outputs": [],
   "source": [
    "def solution(s):\n",
    "    answer = 0\n",
    "    num = [\"zero\", \"one\", \"two\", \"three\", \"four\", \"five\", \"six\", \"seven\", \"eight\", \"nine\"]\n",
    "    for i in range(len(num)):\n",
    "        s = s.replace(num[i], str(i))\n",
    "    return int(s)"
   ]
  },
  {
   "cell_type": "code",
   "execution_count": 82,
   "metadata": {},
   "outputs": [],
   "source": [
    "id_list = [\"con\", \"ryan\"]\n",
    "report = [\"ryan con\", \"ryan con\", \"ryan con\", \"ryan con\"]\n",
    "k = 3"
   ]
  },
  {
   "cell_type": "code",
   "execution_count": 87,
   "metadata": {},
   "outputs": [],
   "source": [
    "def solution(id_list, report, k):\n",
    "    report_tmp = []\n",
    "    report_cnt = []\n",
    "    report_list = []\n",
    "    ban = []\n",
    "    mail_cnt = []\n",
    "    \n",
    "    for _ in id_list:\n",
    "        report_cnt.append(0)\n",
    "        mail_cnt.append(0)\n",
    "        \n",
    "    report_tmp = set(report)\n",
    "    for rpt in report_tmp:\n",
    "        a, b = rpt.split()\n",
    "        report_list.append([a,b])\n",
    "\n",
    "        c = id_list.index(b)\n",
    "        report_cnt[c] = report_cnt[c] + 1\n",
    "        if report_cnt[c] >= k:\n",
    "            ban.append(b)\n",
    "\n",
    "    \n",
    "    for a, b in report_list:\n",
    "        if b in ban:\n",
    "            mail_cnt[id_list.index(a)] = mail_cnt[id_list.index(a)] + 1\n",
    "    \n",
    "    return mail_cnt"
   ]
  },
  {
   "cell_type": "code",
   "execution_count": 88,
   "metadata": {},
   "outputs": [
    {
     "data": {
      "text/plain": [
       "[0, 0]"
      ]
     },
     "execution_count": 88,
     "metadata": {},
     "output_type": "execute_result"
    }
   ],
   "source": [
    "solution(id_list, report, k)"
   ]
  },
  {
   "cell_type": "code",
   "execution_count": 17,
   "metadata": {},
   "outputs": [
    {
     "data": {
      "text/plain": [
       "['muzi', 'frodo']"
      ]
     },
     "execution_count": 17,
     "metadata": {},
     "output_type": "execute_result"
    }
   ],
   "source": [
    "\"muzi frodo\".split(\" \")"
   ]
  },
  {
   "cell_type": "code",
   "execution_count": null,
   "metadata": {},
   "outputs": [],
   "source": []
  }
 ],
 "metadata": {
  "interpreter": {
   "hash": "b9c63406580e674b50202e6adde756ccd67c6ac5cc0d26f5b7f6183b930cd53b"
  },
  "kernelspec": {
   "display_name": "Python 3.9.12 64-bit",
   "language": "python",
   "name": "python3"
  },
  "language_info": {
   "codemirror_mode": {
    "name": "ipython",
    "version": 3
   },
   "file_extension": ".py",
   "mimetype": "text/x-python",
   "name": "python",
   "nbconvert_exporter": "python",
   "pygments_lexer": "ipython3",
   "version": "3.9.12"
  },
  "orig_nbformat": 4
 },
 "nbformat": 4,
 "nbformat_minor": 2
}
