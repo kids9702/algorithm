{
 "cells": [
  {
   "cell_type": "code",
   "execution_count": 40,
   "metadata": {},
   "outputs": [],
   "source": [
    "def solution(a,b):\n",
    "    answer = ''\n",
    "    days = (\"FRI\", \"SAT\", \"SUN\", \"MON\", \"TUE\", \"WED\", \"THU\")\n",
    "    all_date = (31, 29, 31, 30, 31, 30, 31, 31, 30, 31, 30, 31)\n",
    "    tmp = sum(all_date[0:a-1]) + b\n",
    "    day = days[tmp%7 -1]\n",
    "\n",
    "    return day"
   ]
  },
  {
   "cell_type": "code",
   "execution_count": 41,
   "metadata": {},
   "outputs": [
    {
     "data": {
      "text/plain": [
       "'TUE'"
      ]
     },
     "execution_count": 41,
     "metadata": {},
     "output_type": "execute_result"
    }
   ],
   "source": [
    "solution(a,b)"
   ]
  },
  {
   "cell_type": "code",
   "execution_count": 2,
   "metadata": {},
   "outputs": [],
   "source": [
    "# 약수의 합\n",
    "def solution(n):\n",
    "    answer = 0\n",
    "    i=0\n",
    "    while i<=n:\n",
    "        if n==0:\n",
    "            break\n",
    "        elif n%(i+1)==0:\n",
    "            answer=answer+(i+1)\n",
    "        else:\n",
    "            pass\n",
    "        i=i+1\n",
    "    return answer"
   ]
  },
  {
   "cell_type": "code",
   "execution_count": 3,
   "metadata": {},
   "outputs": [],
   "source": [
    "# 자리수 합\n",
    "def solution(a):\n",
    "  return sum(list(map(int,str(a))))"
   ]
  },
  {
   "cell_type": "code",
   "execution_count": 4,
   "metadata": {},
   "outputs": [],
   "source": [
    "# 자연수 뒤집어 배열\n",
    "def solution(a):\n",
    "  b=list(map(int,str(a)))\n",
    "  b.reverse()\n",
    "  return b"
   ]
  },
  {
   "cell_type": "code",
   "execution_count": 5,
   "metadata": {},
   "outputs": [],
   "source": [
    "# 정수 내림차순 배치\n",
    "def solution(n):\n",
    "    a=int(n)\n",
    "    b=list(map(int,str(a)))\n",
    "    b.sort(reverse=True)\n",
    "    b=list(map(str,b))\n",
    "    c=''\n",
    "    for i in range(len(b)):\n",
    "      c=c+b[i]\n",
    "    return int(c)"
   ]
  },
  {
   "cell_type": "code",
   "execution_count": 6,
   "metadata": {},
   "outputs": [],
   "source": [
    "# 제곱근 판별\n",
    "def solution(a):\n",
    "  i=2\n",
    "  if a==1:\n",
    "    return 4\n",
    "  else:\n",
    "    while i<=a:\n",
    "      if a/i==i:\n",
    "        return (i+1)**2\n",
    "        break\n",
    "      elif a==i:\n",
    "        return -1\n",
    "      else:\n",
    "        i=i+1\n",
    "        continue"
   ]
  },
  {
   "cell_type": "code",
   "execution_count": null,
   "metadata": {},
   "outputs": [],
   "source": [
    "# 작은 수 제거\n",
    "def solution(a):\n",
    "  i=0\n",
    "  b=a[0]\n",
    "  if len(a)==1:\n",
    "    return [-1]\n",
    "  else:\n",
    "    while i!=len(a):\n",
    "      if b<a[i]:\n",
    "        pass\n",
    "      else:\n",
    "        b=a[i]\n",
    "      i=i+1\n",
    "    a.remove(b)\n",
    "    return a"
   ]
  }
 ],
 "metadata": {
  "interpreter": {
   "hash": "9ed094ea2057ffc73fa9eef5ac9e99ac49df217a7c398af80f6b9cd71ca598cf"
  },
  "kernelspec": {
   "display_name": "Python 3.10.4 64-bit (windows store)",
   "language": "python",
   "name": "python3"
  },
  "language_info": {
   "codemirror_mode": {
    "name": "ipython",
    "version": 3
   },
   "file_extension": ".py",
   "mimetype": "text/x-python",
   "name": "python",
   "nbconvert_exporter": "python",
   "pygments_lexer": "ipython3",
   "version": "3.10.4"
  },
  "orig_nbformat": 4
 },
 "nbformat": 4,
 "nbformat_minor": 2
}
